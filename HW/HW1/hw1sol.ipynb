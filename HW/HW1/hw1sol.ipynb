{
 "cells": [
  {
   "cell_type": "code",
   "execution_count": 1,
   "metadata": {},
   "outputs": [],
   "source": [
    "import math as m\n",
    "import numpy as np"
   ]
  },
  {
   "cell_type": "markdown",
   "metadata": {},
   "source": [
    "# Q1(a)\n",
    "Implement a function that receives as input Euler angles (roll angle φ, pitch angle\n",
    "θ,and yaw angle ψ) and calculates the corresponding rotation matrix assuming roll-\n",
    "pitch-yaw order from Body to Global: R = R Z (ψ) R Y (θ) R X (φ)"
   ]
  },
  {
   "cell_type": "code",
   "execution_count": 2,
   "metadata": {},
   "outputs": [],
   "source": [
    "def eul2R_zyx(roll,pitch,yaw):\n",
    "    return Rz(yaw) @ Ry(pitch) @ Rx(roll)\n",
    "\n",
    "def Rx(theta):\n",
    "    return np.matrix([[ 1, 0           , 0        ],\n",
    "                   [ 0, m.cos(theta),-m.sin(theta)],\n",
    "                   [ 0, m.sin(theta), m.cos(theta)]])\n",
    "  \n",
    "def Ry(theta):\n",
    "    return np.matrix([[m.cos(theta), 0, m.sin(theta)],\n",
    "                   [ 0           , 1, 0           ],\n",
    "                   [-m.sin(theta), 0, m.cos(theta)]])\n",
    "  \n",
    "def Rz(theta):\n",
    "    return np.matrix([[m.cos(theta), -m.sin(theta), 0 ],\n",
    "                   [ m.sin(theta), m.cos(theta) , 0 ],\n",
    "                   [ 0           , 0            , 1 ]])"
   ]
  },
  {
   "cell_type": "markdown",
   "metadata": {},
   "source": [
    "# Q1(b)\n",
    "What is the rotation matrix from Body to Global for ψ = π/7, θ = π/5, and φ = π/4?"
   ]
  },
  {
   "cell_type": "code",
   "execution_count": 3,
   "metadata": {},
   "outputs": [
    {
     "name": "stdout",
     "output_type": "stream",
     "text": [
      "[[ 0.72889913  0.0676648   0.68126907]\n",
      " [ 0.35101932  0.81741497 -0.45674743]\n",
      " [-0.58778525  0.5720614   0.5720614 ]]\n"
     ]
    }
   ],
   "source": [
    "print(eul2R_zyx(roll=np.pi/4,pitch=np.pi/5,yaw=np.pi/7))"
   ]
  },
  {
   "cell_type": "markdown",
   "metadata": {},
   "source": [
    "# Q1(c)\n",
    "Implement a function that receives as input a rotation matrix and calculates the\n",
    "corresponding Euler angles assuming roll-pitch-yaw order"
   ]
  },
  {
   "cell_type": "markdown",
   "metadata": {},
   "source": [
    "We viewed the document \"Computing Euler angles from a rotation matrix\" by Gregory G. Slabaugh for an algoirthmic solution achieved by comparing abstract variables $R_{ij}$ and the multiplication solution we found before $R_{ij}(φ,θ,ψ)$\n",
    "\n",
    "*The document is attached with this HW submission"
   ]
  },
  {
   "cell_type": "code",
   "execution_count": 4,
   "metadata": {},
   "outputs": [],
   "source": [
    "def R2eul_zyx(R):\n",
    "    '''\n",
    "    here the convetion is \n",
    "         psi ~ roll\n",
    "         theta ~ pitch\n",
    "         phi ~ yaw\n",
    "    '''\n",
    "    if np.abs(R[2,0]) != 1:\n",
    "        theta1 = -m.asin(R[2,0])\n",
    "        theta2 = np.pi-theta1\n",
    "        psi1 = m.atan2(R[2,1]/m.cos(theta1),R[2,2]/m.cos(theta1))\n",
    "        psi2 = m.atan2(R[2,1]/m.cos(theta2),R[2,2]/m.cos(theta2))\n",
    "        phi1 = m.atan2(R[1,0]/m.cos(theta1),R[0,0]/m.cos(theta1))\n",
    "        phi2 = m.atan2(R[1,0]/m.cos(theta2),R[0,0]/m.cos(theta2))\n",
    "        \n",
    "        theta = np.array([theta1,theta2])\n",
    "        psi = np.array([psi1, psi2])\n",
    "        phi = np.array([phi1, phi2])\n",
    "    else:\n",
    "        phi = 0 #gimbal locking infinite solutions.. we choose one\n",
    "        if R[2,0] == -1:\n",
    "            theta = np.pi/2\n",
    "            psi = phi+m.atan2(R[0,1],R[0,2])\n",
    "        else:\n",
    "            theta = -np.pi/2\n",
    "            psi = -phi+atan2(-R[0,1],-R[0,2])\n",
    "    \n",
    "    return psi,theta,phi\n"
   ]
  },
  {
   "cell_type": "markdown",
   "metadata": {},
   "source": [
    "## Our pal Gregory writes:\n",
    "\"Either case: \"In both the θ = π/2 and θ = −π/2 cases, we have found that\n",
    "ψ and φ are linked. This phenomenon is called Gimbal lock. Although\n",
    "in this case, there are an infinite number of solutions to the problem, in\n",
    "practice, one is often interested in finding one solution. For this task, it is\n",
    "convenient to set φ = 0 and compute ψ as described above.\"\n",
    "\n",
    "\"More than one solution?\n",
    "It is interesting to note that there is always more than one sequence of rotations\n",
    "about the three principle axes that results in the same orientation of an object.\n",
    "As we have shown in this report, in the non-degenerate case of cos θ 6 = 0, there\n",
    "are two solutions. For the degenerate case of cos θ = 0, an infinite number of\n",
    "solutions exist.\n",
    "As an example, consider a book laying on a table face up in front of you.\n",
    "Define the x-axis as to the right, the y-axis as away from you, and the z-axis\n",
    "up. A rotation of π radians about the y-axis will turn the book so that the back\n",
    "cover is now facing up. Another way to achieve the same orientation would be\n",
    "to rotate the book π radians about the x-axis, and then π radians about the\n",
    "z-axis. Thus, there is more than one way to achieve a desired rotation.\""
   ]
  },
  {
   "cell_type": "markdown",
   "metadata": {},
   "source": [
    "# Q1(d)\n",
    "\n",
    "What are the Euler angles in degrees for the following rotation matrix (Body to Global,\n",
    "assuming roll-pitch-yaw order):\n",
    "\n",
    "$R_B^G=\\begin{bmatrix} 0.813797681 & −0.440969611 & 0.378522306 \\\\ \n",
    "                        0.46984631 & 0.882564119 & 0.0180283112 \n",
    "                        \\\\ −0.342020143 & 0.163175911 & 0.925416578 \\end{bmatrix}$"
   ]
  },
  {
   "cell_type": "code",
   "execution_count": 5,
   "metadata": {},
   "outputs": [
    {
     "name": "stdout",
     "output_type": "stream",
     "text": [
      "roll = [   9.99999999 -170.00000001] deg\n",
      " pitch = [ 19.99999998 160.00000002] deg\n",
      " yaw = [  29.99999999 -150.00000001] deg\n",
      "\n",
      "if two values per angle, than the first column is one solution and second is another\n"
     ]
    }
   ],
   "source": [
    "R_B2G=np.array([[0.813797681, -0.440969611, 0.378522306],\n",
    "                [0.46984631, 0.882564119, 0.0180283112],\n",
    "                [-0.342020143, 0.163175911, 0.925416578]])\n",
    "\n",
    "roll,pitch,yaw=R2eul_zyx(R_B2G)\n",
    "\n",
    "#radians to degrees\n",
    "gain=180/np.pi\n",
    "\n",
    "print(\"roll = {} deg\\n pitch = {} deg\\n yaw = {} deg\\n\".format(roll*gain,pitch*gain,yaw*gain))\n",
    "print(\"if two values per angle, than the first column is one solution and second is another\")"
   ]
  },
  {
   "cell_type": "markdown",
   "metadata": {},
   "source": [
    "## Sanity check:\n",
    "\n",
    "test $R_B^G$ against eul2R_zyx(R2eul_zyx($R_B^G$)\n",
    "\n",
    "$\\bar R$=eul2R_zyx(R2eul_zyx($R_B^G$)"
   ]
  },
  {
   "cell_type": "code",
   "execution_count": 6,
   "metadata": {},
   "outputs": [
    {
     "name": "stdout",
     "output_type": "stream",
     "text": [
      "first solution numerical error norm 1.034335846071033e-09\n",
      "second solution numerical error norm 1.0343359123234674e-09\n"
     ]
    }
   ],
   "source": [
    "Rbar0=eul2R_zyx(roll[0],pitch[0],yaw[0])\n",
    "print(\"first solution numerical error norm {}\".format(np.linalg.norm(R_B2G-Rbar0)))\n",
    "Rbar1=eul2R_zyx(roll[1],pitch[1],yaw[1])\n",
    "print(\"second solution numerical error norm {}\".format(np.linalg.norm(R_B2G-Rbar1)))"
   ]
  },
  {
   "cell_type": "markdown",
   "metadata": {},
   "source": [
    "# Q2 \n",
    "3D rigid transformation. The coordinates of a 3D point in a global frame are\n",
    "\n",
    "$l^G = (450, 400, 50)$\n",
    "\n",
    "This 3D point is observed by a camera whose pose is described by the following rotation\n",
    "and translation with respect to the global frame:\n",
    "\n",
    "$R_C^G=\\begin{bmatrix} 0.5363 & −0.8440 & 0 \\\\ \n",
    "                       0.8440 & 0.5363 & 0\n",
    "                        \\\\ 0 & 0 & 1 \\end{bmatrix}$\n",
    "                        \n",
    "$t^G_{C->G} = (−451.2459, 257.0322, 400)$\n",
    "\n",
    "Calculate the 3D point coordinates in a camera frame ($l^C =?$). Write an explicit expression\n",
    "for the appropriate 3D transformation (4 × 4 matrix) in terms of $R_G^C$ and $t^G_{C->G}$"
   ]
  },
  {
   "cell_type": "code",
   "execution_count": 34,
   "metadata": {},
   "outputs": [],
   "source": [
    "R_G2C = np.array([[0.5363, -0.8440, 0],\n",
    "                  [0.8440, 0.5363, 0],\n",
    "                  [0, 0 ,1]])\n",
    "t_C2G = np.array([-451.2459,257.0322,400])"
   ]
  },
  {
   "cell_type": "code",
   "execution_count": 35,
   "metadata": {},
   "outputs": [],
   "source": [
    "def transform_from_rot_trans(R, t):\n",
    "    #copied from programcreek\n",
    "    R = R.reshape(3, 3)\n",
    "    t = t.reshape(3, 1)\n",
    "    return np.vstack((np.hstack([R, t]), [0, 0, 0, 1])) "
   ]
  },
  {
   "cell_type": "code",
   "execution_count": 39,
   "metadata": {},
   "outputs": [],
   "source": [
    "T_G2C = transform_from_rot_trans(R_G2C,R_G2C@t_C2G)\n",
    "l_G = np.array([450, 450, 5, 1])  #homogenius\n",
    "l_C = T_G2C @ l_G.T"
   ]
  },
  {
   "cell_type": "markdown",
   "metadata": {},
   "source": []
  }
 ],
 "metadata": {
  "interpreter": {
   "hash": "c15594c2f31c9e97b7de862d5c4e4b78269cbe60ee8d09258719946124ec0f99"
  },
  "kernelspec": {
   "display_name": "Python 3 (ipykernel)",
   "language": "python",
   "name": "python3"
  },
  "language_info": {
   "codemirror_mode": {
    "name": "ipython",
    "version": 3
   },
   "file_extension": ".py",
   "mimetype": "text/x-python",
   "name": "python",
   "nbconvert_exporter": "python",
   "pygments_lexer": "ipython3",
   "version": "3.9.7"
  }
 },
 "nbformat": 4,
 "nbformat_minor": 2
}
