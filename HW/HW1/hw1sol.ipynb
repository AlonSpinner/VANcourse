{
 "cells": [
  {
   "cell_type": "code",
   "execution_count": 1,
   "metadata": {},
   "outputs": [],
   "source": [
    "import math as m\n",
    "import numpy as np"
   ]
  },
  {
   "cell_type": "markdown",
   "metadata": {},
   "source": [
    "# Q1\n",
    "\n",
    "<span style='color:orange'>\n",
    "Rotations. Implement transformation from rotation matrix to Euler angles and vice versa\n",
    "</span>"
   ]
  },
  {
   "cell_type": "markdown",
   "metadata": {},
   "source": [
    "## (a)\n",
    "\n",
    "<span style='color:orange'>\n",
    "Implement a function that receives as input Euler angles (roll angle φ, pitch angle\n",
    "θ,and yaw angle ψ) and calculates the corresponding rotation matrix assuming roll-\n",
    "pitch-yaw order from Body to Global: R = R Z (ψ) R Y (θ) R X (φ)\n",
    "</span>"
   ]
  },
  {
   "cell_type": "code",
   "execution_count": 2,
   "metadata": {},
   "outputs": [],
   "source": [
    "def eul2R_zyx(roll,pitch,yaw):\n",
    "    return Rz(yaw) @ Ry(pitch) @ Rx(roll)\n",
    "\n",
    "def Rx(theta):\n",
    "    return np.matrix([[ 1, 0           , 0        ],\n",
    "                   [ 0, m.cos(theta),-m.sin(theta)],\n",
    "                   [ 0, m.sin(theta), m.cos(theta)]])\n",
    "  \n",
    "def Ry(theta):\n",
    "    return np.matrix([[m.cos(theta), 0, m.sin(theta)],\n",
    "                   [ 0           , 1, 0           ],\n",
    "                   [-m.sin(theta), 0, m.cos(theta)]])\n",
    "  \n",
    "def Rz(theta):\n",
    "    return np.matrix([[m.cos(theta), -m.sin(theta), 0 ],\n",
    "                   [ m.sin(theta), m.cos(theta) , 0 ],\n",
    "                   [ 0           , 0            , 1 ]])"
   ]
  },
  {
   "cell_type": "markdown",
   "metadata": {},
   "source": [
    "## (b)\n",
    "\n",
    "<span style='color:orange'>\n",
    "What is the rotation matrix from Body to Global for ψ = π/7, θ = π/5, and φ = π/4?\n",
    "</span>"
   ]
  },
  {
   "cell_type": "code",
   "execution_count": 3,
   "metadata": {},
   "outputs": [
    {
     "name": "stdout",
     "output_type": "stream",
     "text": [
      "[[ 0.72889913  0.0676648   0.68126907]\n",
      " [ 0.35101932  0.81741497 -0.45674743]\n",
      " [-0.58778525  0.5720614   0.5720614 ]]\n"
     ]
    }
   ],
   "source": [
    "print(eul2R_zyx(roll=np.pi/4,pitch=np.pi/5,yaw=np.pi/7))"
   ]
  },
  {
   "cell_type": "markdown",
   "metadata": {},
   "source": [
    "## (c)\n",
    "\n",
    "<span style='color:orange'>\n",
    "Implement a function that receives as input a rotation matrix and calculates the\n",
    "corresponding Euler angles assuming roll-pitch-yaw order\n",
    "</span>"
   ]
  },
  {
   "cell_type": "markdown",
   "metadata": {},
   "source": [
    "We viewed the document \"Computing Euler angles from a rotation matrix\" by Gregory G. Slabaugh for an algoirthmic solution achieved by comparing abstract variables $R_{ij}$ and the multiplication solution we found before $R_{ij}(φ,θ,ψ)$\n",
    "\n",
    "*The document is attached with this HW submission"
   ]
  },
  {
   "cell_type": "code",
   "execution_count": 4,
   "metadata": {},
   "outputs": [],
   "source": [
    "def R2eul_zyx(R):\n",
    "    '''\n",
    "    here the convetion is \n",
    "         psi ~ roll\n",
    "         theta ~ pitch\n",
    "         phi ~ yaw\n",
    "    '''\n",
    "    if np.abs(R[2,0]) != 1:\n",
    "        theta1 = -m.asin(R[2,0])\n",
    "        theta2 = np.pi-theta1\n",
    "        psi1 = m.atan2(R[2,1]/m.cos(theta1),R[2,2]/m.cos(theta1))\n",
    "        psi2 = m.atan2(R[2,1]/m.cos(theta2),R[2,2]/m.cos(theta2))\n",
    "        phi1 = m.atan2(R[1,0]/m.cos(theta1),R[0,0]/m.cos(theta1))\n",
    "        phi2 = m.atan2(R[1,0]/m.cos(theta2),R[0,0]/m.cos(theta2))\n",
    "        \n",
    "        theta = np.array([theta1,theta2])\n",
    "        psi = np.array([psi1, psi2])\n",
    "        phi = np.array([phi1, phi2])\n",
    "    else:\n",
    "        phi = 0 #gimbal locking infinite solutions.. we choose one\n",
    "        if R[2,0] == -1:\n",
    "            theta = np.pi/2\n",
    "            psi = phi+m.atan2(R[0,1],R[0,2])\n",
    "        else:\n",
    "            theta = -np.pi/2\n",
    "            psi = -phi+m.atan2(-R[0,1],-R[0,2])\n",
    "    \n",
    "    return psi,theta,phi\n"
   ]
  },
  {
   "cell_type": "markdown",
   "metadata": {},
   "source": [
    "## Our pal Gregory writes:\n",
    "\"Either case: \"In both the θ = π/2 and θ = −π/2 cases, we have found that\n",
    "ψ and φ are linked. This phenomenon is called Gimbal lock. Although\n",
    "in this case, there are an infinite number of solutions to the problem, in\n",
    "practice, one is often interested in finding one solution. For this task, it is\n",
    "convenient to set φ = 0 and compute ψ as described above.\"\n",
    "\n",
    "\"More than one solution?\n",
    "It is interesting to note that there is always more than one sequence of rotations\n",
    "about the three principle axes that results in the same orientation of an object.\n",
    "As we have shown in this report, in the non-degenerate case of cos θ 6 = 0, there\n",
    "are two solutions. For the degenerate case of cos θ = 0, an infinite number of\n",
    "solutions exist.\n",
    "As an example, consider a book laying on a table face up in front of you.\n",
    "Define the x-axis as to the right, the y-axis as away from you, and the z-axis\n",
    "up. A rotation of π radians about the y-axis will turn the book so that the back\n",
    "cover is now facing up. Another way to achieve the same orientation would be\n",
    "to rotate the book π radians about the x-axis, and then π radians about the\n",
    "z-axis. Thus, there is more than one way to achieve a desired rotation.\""
   ]
  },
  {
   "cell_type": "markdown",
   "metadata": {},
   "source": [
    "## (d)\n",
    "\n",
    "<span style='color:orange'>\n",
    "What are the Euler angles in degrees for the following rotation matrix (Body to Global,\n",
    "assuming roll-pitch-yaw order):\n",
    "\n",
    "$R_B^G=\\begin{bmatrix} 0.813797681 & −0.440969611 & 0.378522306 \\\\ \n",
    "                        0.46984631 & 0.882564119 & 0.0180283112 \n",
    "                        \\\\ −0.342020143 & 0.163175911 & 0.925416578 \\end{bmatrix}$\n",
    "</span>"
   ]
  },
  {
   "cell_type": "code",
   "execution_count": 5,
   "metadata": {},
   "outputs": [
    {
     "name": "stdout",
     "output_type": "stream",
     "text": [
      "roll = [   9.99999999 -170.00000001] deg\n",
      " pitch = [ 19.99999998 160.00000002] deg\n",
      " yaw = [  29.99999999 -150.00000001] deg\n",
      "\n",
      "if two values per angle, than the first column is one solution and second is another\n"
     ]
    }
   ],
   "source": [
    "R_B2G=np.array([[0.813797681, -0.440969611, 0.378522306],\n",
    "                [0.46984631, 0.882564119, 0.0180283112],\n",
    "                [-0.342020143, 0.163175911, 0.925416578]])\n",
    "\n",
    "roll,pitch,yaw=R2eul_zyx(R_B2G)\n",
    "\n",
    "#radians to degrees\n",
    "gain=180/np.pi\n",
    "\n",
    "print(\"roll = {} deg\\n pitch = {} deg\\n yaw = {} deg\\n\".format(roll*gain,pitch*gain,yaw*gain))\n",
    "print(\"if two values per angle, than the first column is one solution and second is another\")"
   ]
  },
  {
   "cell_type": "markdown",
   "metadata": {},
   "source": [
    "## Sanity check:\n",
    "\n",
    "test $R_B^G$ against eul2R_zyx(R2eul_zyx($R_B^G$)\n",
    "\n",
    "$\\bar R$=eul2R_zyx(R2eul_zyx($R_B^G$)"
   ]
  },
  {
   "cell_type": "code",
   "execution_count": 6,
   "metadata": {},
   "outputs": [
    {
     "name": "stdout",
     "output_type": "stream",
     "text": [
      "first solution numerical error norm 1.034335846071033e-09\n",
      "second solution numerical error norm 1.0343359123234674e-09\n"
     ]
    }
   ],
   "source": [
    "Rbar0=eul2R_zyx(roll[0],pitch[0],yaw[0])\n",
    "print(\"first solution numerical error norm {}\".format(np.linalg.norm(R_B2G-Rbar0)))\n",
    "Rbar1=eul2R_zyx(roll[1],pitch[1],yaw[1])\n",
    "print(\"second solution numerical error norm {}\".format(np.linalg.norm(R_B2G-Rbar1)))"
   ]
  },
  {
   "cell_type": "markdown",
   "metadata": {},
   "source": [
    "# Q2 \n",
    "\n",
    "<span style='color:orange'>\n",
    "3D rigid transformation. The coordinates of a 3D point in a global frame are\n",
    "\n",
    "$$ l^G = (450, 400, 50) $$\n",
    "\n",
    "This 3D point is observed by a camera whose pose is described by the following rotation\n",
    "and translation with respect to the global frame:\n",
    "\n",
    "$R_G^C=\\begin{bmatrix} 0.5363 & −0.8440 & 0 \\\\ \n",
    "                       0.8440 & 0.5363 & 0\n",
    "                        \\\\ 0 & 0 & 1 \\end{bmatrix}$\n",
    "                        \n",
    "$$ t^G_{C->G} = (−451.2459, 257.0322, 400) $$\n",
    "\n",
    "Calculate the 3D point coordinates in a camera frame ($l^C =?$). Write an explicit expression\n",
    "for the appropriate 3D transformation (4 × 4 matrix) in terms of $R_G^C$ and $t^G_{C->G}$\n",
    "</span>"
   ]
  },
  {
   "cell_type": "markdown",
   "metadata": {},
   "source": [
    "$$ l^C = R_G^C l^G + t^C_{C->G} = R_G^C l^G + R_G^C t^G_{C->G} $$\n",
    "\n",
    "$T_G^C=\\begin{bmatrix} R_G^C  & R_G^C t^G_{C->G} \\\\ \n",
    "                        \\\\ 0 & 1 \\end{bmatrix}$"
   ]
  },
  {
   "cell_type": "code",
   "execution_count": 7,
   "metadata": {},
   "outputs": [],
   "source": [
    "R_G2C = np.array([[0.5363, -0.8440, 0],\n",
    "                  [0.8440, 0.5363, 0],\n",
    "                  [0, 0 ,1]])\n",
    "t_G_C2G = np.array([-451.2459,257.0322,400])"
   ]
  },
  {
   "cell_type": "code",
   "execution_count": 8,
   "metadata": {},
   "outputs": [],
   "source": [
    "def transform_from_rot_trans(R, t):\n",
    "    #copied from programcreek\n",
    "    R = R.reshape(3, 3)\n",
    "    t = t.reshape(3, 1)\n",
    "    return np.vstack((np.hstack([R, t]), [0, 0, 0, 1])) "
   ]
  },
  {
   "cell_type": "code",
   "execution_count": 9,
   "metadata": {},
   "outputs": [
    {
     "name": "stdout",
     "output_type": "stream",
     "text": [
      "l_c =  [-555.20335297  351.31482926  450.        ]\n"
     ]
    }
   ],
   "source": [
    "T_G2C = transform_from_rot_trans(R_G2C,R_G2C@t_G_C2G)\n",
    "l_G = np.array([450, 400, 50, 1])  #homogenius\n",
    "l_C = T_G2C @ l_G.T\n",
    "\n",
    "print(\"l_c =  {}\".format(l_C[:3]))"
   ]
  },
  {
   "cell_type": "markdown",
   "metadata": {},
   "source": [
    "# Q3 \n",
    "\n",
    "<span style='color:orange'>\n",
    "Pose composition. An autonomous ground vehicle (robot) is commanded to move forward\n",
    "by 1 meter each time step. Due to imperfect control system, the robot instead moves\n",
    "forward by 1.01 meter and also rotates by 1 degree.\n",
    "Remark: In this exercise we consider a 2D scenario, where pose is defined in terms of x-y\n",
    "coordinates and an orientation (heading) angle.\n",
    "</span>"
   ]
  },
  {
   "cell_type": "markdown",
   "metadata": {},
   "source": [
    "## (a)\n",
    "\n",
    "<span style='color:orange'>\n",
    "Write expressions for the corresponding commanded and actual transformations - note\n",
    "these are relative to the robot frame. Guidance: calculate the rotation $R_k^{k+1}$ and translation $t_{kk+1→k}$ relating robot frames at\n",
    "consecutive times k, k + 1 (commanded and actual). Use these to express commanded\n",
    "and actual transformations $T_k^{k+1}$ .\n",
    "</span>"
   ]
  },
  {
   "cell_type": "markdown",
   "metadata": {},
   "source": [
    "We will work in homogenous coordinates\n",
    "\n",
    "$ X =\\begin{bmatrix} x \\\\ \n",
    "                        y \\\\\n",
    "                        \\theta \\\\\n",
    "                         1 \\end{bmatrix}$\n",
    "\n",
    "$ R_k^{k+1}=R_z(-\\theta) =\\begin{bmatrix}\n",
    "                        cos(-d\\theta) & −sin(-d\\theta) & 0 \\\\ \n",
    "                       sin(-d\\theta) & cos(-d\\theta) & 0 \\\\\n",
    "                       0            &     0         & 1 \\\\\n",
    "                        \\end{bmatrix}$\n",
    "\n",
    "We use the third dimension to evolve $\\theta$ in time:\n",
    "\n",
    "$$ t_{k+1->k}^{k+1} = R_k^{k+1} t_{k+1->k}^k  = R_k^{k+1}\\begin{bmatrix}\n",
    "                                                      -ds \\\\ \n",
    "                                                      0 \\\\\n",
    "                                                   -d\\theta \\\\\n",
    "                                                   \\end{bmatrix} $$\n",
    "\n",
    "$$ T_k^{k+1} = \\begin{bmatrix}\n",
    "               R_k^{k+1} & t_{k+1->k}^{k+1} \\\\ \n",
    "               0 & 1  \\\\\n",
    "               \\end{bmatrix} $$ \n",
    "\n",
    "\n",
    "To evolve the state in time, we actually want $ T_{kk+1}^k = inv(T_k^{kk+1}) $. It can be counter intuitive, but the matrix that evolves the state in time to state $X_{k+1}$ is the inverse of the matrix that updates the coordinates system\n",
    "\n",
    "                         "
   ]
  },
  {
   "cell_type": "markdown",
   "metadata": {},
   "source": [
    "# (b)\n",
    "\n",
    "<span style='color:orange'>\n",
    "Assuming robot starts moving from the origin, calculate evolution of robot pose (in\n",
    "terms of x-y position and orientation angle) for 10 steps using pose composition. Draw\n",
    "the commanded and actual robot pose for 10 steps. What is the dead reckoning error\n",
    "at the end? (write down x error , y error in meters, heading error in rad).\n",
    "</span>"
   ]
  },
  {
   "cell_type": "code",
   "execution_count": 15,
   "metadata": {},
   "outputs": [],
   "source": [
    "def computeRobotT(dtheta,ds):\n",
    "    R_k2kp1 = Rz(-dtheta)\n",
    "    t_k_k2kp1 = np.array([[-ds, 0, -dtheta]])\n",
    "    t_kp1_k2kp1 = R_k2kp1 @ t_k_k2kp1.T\n",
    "    return transform_from_rot_trans(R_k2kp1, t_kp1_k2kp1)"
   ]
  },
  {
   "cell_type": "code",
   "execution_count": 16,
   "metadata": {},
   "outputs": [
    {
     "name": "stdout",
     "output_type": "stream",
     "text": [
      "absolute errors at step N = 10:\n",
      "x error = 0.05621777424421026 [m]\n",
      "y error = 0.7914415030330848 [m]\n",
      "theta error = 0.17453292519943295 [rad]\n"
     ]
    }
   ],
   "source": [
    "T_command=computeRobotT(dtheta = 0.0,ds = 1.0)\n",
    "invT_command=np.linalg.inv(T_command)\n",
    "T_actual=computeRobotT(dtheta = 1*np.pi/180,ds = 1.01)\n",
    "invT_actual=np.linalg.inv(T_actual)\n",
    "\n",
    "X0 = np.array([0.0, 0.0, 0.0, 1.0]).T\n",
    "N = 10 #steps\n",
    "X_command = np.zeros((4,N+1)) ; X_actual = np.zeros((4,N+1))\n",
    "X_command[:,0] = X0 ; X_actual[:,0] = X0\n",
    "\n",
    "\n",
    "for ii in range(N):\n",
    "    X_command[:,ii+1] = invT_command @ X_command[:,ii]\n",
    "    X_actual[:,ii+1] = invT_actual @ X_actual[:,ii]\n",
    "\n",
    "\n",
    "print('absolute errors at step N = 10:')\n",
    "print('x error = {} [m]'.format(abs(X_command[0,-1]-X_actual[0,-1])))\n",
    "print('y error = {} [m]'.format(abs(X_command[1,-1]-X_actual[1,-1])))\n",
    "print('theta error = {} [rad]'.format(abs(X_command[2,-1]-X_actual[2,-1])))\n"
   ]
  },
  {
   "cell_type": "code",
   "execution_count": 20,
   "metadata": {},
   "outputs": [
    {
     "data": {
      "text/plain": [
       "Text(0, 0.5, 'theta [rad]')"
      ]
     },
     "execution_count": 20,
     "metadata": {},
     "output_type": "execute_result"
    },
    {
     "data": {
      "image/png": "[encoded data removed]",
      "text/plain": [
       "<Figure size 720x1152 with 2 Axes>"
      ]
     },
     "metadata": {
      "needs_background": "light"
     },
     "output_type": "display_data"
    }
   ],
   "source": [
    "import matplotlib.pyplot as plt\n",
    "\n",
    "fig, axs = plt.subplots(2,figsize=(10,16))\n",
    "\n",
    "ax=axs[0]\n",
    "line_command, = ax.plot(X_command[0,:],X_command[1,:],\"--x\")\n",
    "line_command.set_label('command')\n",
    "line_actual, = ax.plot(X_actual[0,:],X_actual[1,:],\"--o\")\n",
    "line_actual.set_label('actual')\n",
    "ax.legend(); ax.grid(True)\n",
    "ax.set_xlabel(\"x[m]\")\n",
    "ax.set_ylabel(\"y [m]\")\n",
    "\n",
    "ax=axs[1]\n",
    "line_command, = ax.plot(range(N+1),X_command[2,:],\"--x\")\n",
    "line_command.set_label('command')\n",
    "line_actual, = ax.plot(range(N+1),X_actual[2,:],\"--o\")\n",
    "line_actual.set_label('actual')\n",
    "ax.legend(); ax.grid(True)\n",
    "ax.set_xlabel(\"step count\")\n",
    "ax.set_ylabel(\"theta [rad]\")"
   ]
  }
 ],
 "metadata": {
  "interpreter": {
   "hash": "c15594c2f31c9e97b7de862d5c4e4b78269cbe60ee8d09258719946124ec0f99"
  },
  "kernelspec": {
   "display_name": "Python 3.9.7 64-bit ('086761VAN': conda)",
   "name": "python3"
  },
  "language_info": {
   "codemirror_mode": {
    "name": "ipython",
    "version": 3
   },
   "file_extension": ".py",
   "mimetype": "text/x-python",
   "name": "python",
   "nbconvert_exporter": "python",
   "pygments_lexer": "ipython3",
   "version": "3.9.7"
  }
 },
 "nbformat": 4,
 "nbformat_minor": 2
}
